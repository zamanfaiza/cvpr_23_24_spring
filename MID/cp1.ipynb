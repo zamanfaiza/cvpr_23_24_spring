{
 "cells": [
  {
   "cell_type": "code",
   "execution_count": 8,
   "id": "40e706c6-9ccf-4675-b11e-c58f3e7ffd41",
   "metadata": {},
   "outputs": [
    {
     "name": "stdout",
     "output_type": "stream",
     "text": [
      "[1, 2, 3, 4, 5, 6, 7, 8, 9, 10]\n",
      "[1, 2, 3, 4, 5, 6, 7, 8, 9, 10, 1, 4, 9, 16, 25, 36, 49, 64, 81, 100]\n",
      "Sum of all elements in the list: 440\n"
     ]
    }
   ],
   "source": [
    "l=[1,2,3,4,5,6,7,8,9,10]# list of integers containing numbers from 1 to 10.\n",
    "print(l)\n",
    "sq = [a**2 for a in l]# square of each number to the list.\n",
    "for a in sq:\n",
    "    l.append(a)#Append the square of each number to the list.\n",
    "print(l)  \n",
    "print(f'Sum of all elements in the list: {sum(l)}')#sum of all numbers"
   ]
  },
  {
   "cell_type": "code",
   "execution_count": 10,
   "id": "6b1ae2ec-4b79-4cba-97ef-d807e7617c6f",
   "metadata": {},
   "outputs": [
    {
     "name": "stdout",
     "output_type": "stream",
     "text": [
      "(2, 4, 6, 8, 10)\n",
      "product of all the elements: 3840\n"
     ]
    }
   ],
   "source": [
    "t=(2,4,6,8,10)# tuple containing the first five even numbers\n",
    "print(t)\n",
    "product = 1\n",
    "for i in t:#product of elements\n",
    "    product *= i\n",
    "print(f'product of all the elements: {product}')   \n"
   ]
  },
  {
   "cell_type": "code",
   "execution_count": 11,
   "id": "e63b0e55-caba-4a71-9b84-f823db5539d5",
   "metadata": {},
   "outputs": [
    {
     "name": "stdout",
     "output_type": "stream",
     "text": [
      "Union of the two sets: {1, 3, 5, 7, 9}\n",
      "Intersection of the two sets: {1, 5, 9, 7}\n"
     ]
    }
   ],
   "source": [
    "s1={1,5,7,9}\n",
    "s2={1,3,5,7,9}\n",
    "print(f'Union of the two sets: {s1.union(s2)}')\n",
    "print(f'Intersection of the two sets: {s1.intersection(s2)}')"
   ]
  },
  {
   "cell_type": "code",
   "execution_count": 19,
   "id": "7c47ba75-27ac-4f7f-a7c4-68cdc31ac0cb",
   "metadata": {},
   "outputs": [
    {
     "name": "stdout",
     "output_type": "stream",
     "text": [
      "{'a': 65, 'b': 66, 'c': 67, 'd': 68, 'e': 69}\n"
     ]
    }
   ],
   "source": [
    "d={'a':65, 'b':66, 'c':67, 'd':68, 'e':69}\n",
    "print(d)"
   ]
  },
  {
   "cell_type": "code",
   "execution_count": 20,
   "id": "f3afc4fa-154f-418f-ad89-60ab0beda035",
   "metadata": {},
   "outputs": [
    {
     "name": "stdout",
     "output_type": "stream",
     "text": [
      "Squared numbers:[1, 4, 9, 16, 25, 36, 49, 64, 81, 100]\n"
     ]
    }
   ],
   "source": [
    "num=[1,2,3,4,5,6,7,8,9,10]\n",
    "def square(x):\n",
    "    return x**2\n",
    "print(f'Squared numbers:{list(map(square,num))}')\n"
   ]
  },
  {
   "cell_type": "code",
   "execution_count": null,
   "id": "1b4d500f-aa50-494c-a841-7a46e42099eb",
   "metadata": {},
   "outputs": [],
   "source": []
  }
 ],
 "metadata": {
  "kernelspec": {
   "display_name": "cvpr",
   "language": "python",
   "name": "cvpr"
  },
  "language_info": {
   "codemirror_mode": {
    "name": "ipython",
    "version": 3
   },
   "file_extension": ".py",
   "mimetype": "text/x-python",
   "name": "python",
   "nbconvert_exporter": "python",
   "pygments_lexer": "ipython3",
   "version": "3.8.18"
  }
 },
 "nbformat": 4,
 "nbformat_minor": 5
}
